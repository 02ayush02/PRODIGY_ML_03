{
 "cells": [
  {
   "cell_type": "markdown",
   "id": "92c9c746-58b9-4b11-bca9-68d8fc155918",
   "metadata": {},
   "source": [
    "# Task 3: Implement a support vector machine (SVM) to classify images of cats and dogs "
   ]
  },
  {
   "cell_type": "markdown",
   "id": "dc1eac68-cb90-45f6-b3fa-fcd91370811d",
   "metadata": {},
   "source": [
    "## Cat vs Dog Image Classifier - Testing / Inference Script\n",
    "\n",
    "This script is responsible for **loading the trained SVM model** and using it to make predictions on a test set of unlabeled images.\n",
    "\n",
    "### It performs the following steps:\n",
    "\n",
    "1. **Loads the trained model** (`svm_model_hog_pca.pkl`) along with its scaler and PCA transformer.\n",
    "2. **Reads and preprocesses images** from the test folder.\n",
    "3. **Extracts HOG features** from each image.\n",
    "4. **Applies PCA and scaling** to transform features just like during training.\n",
    "5. **Uses the trained SVM model** to predict whether each image is a cat or a dog.\n",
    "6. **Creates a submission CSV file** with filenames and corresponding predicted labels (`cat` or `dog`), sorted in filename order.\n",
    "\n",
    " **Output:** A CSV file named **`submission.csv`** containing predictions for all test images.\n"
   ]
  },
  {
   "cell_type": "markdown",
   "id": "f5154c23-2ef1-4ca0-8850-49d00bd75973",
   "metadata": {},
   "source": [
    "## 1. Importing the Libraries"
   ]
  },
  {
   "cell_type": "code",
   "execution_count": 1,
   "id": "a56aa58d-ff8c-4c5a-8065-761758ebb990",
   "metadata": {},
   "outputs": [],
   "source": [
    "import os  # For file and directory operations\n",
    "import numpy as np  # For numerical operations and arrays\n",
    "import pickle  # For loading the trained SVM model\n",
    "import pandas as pd  # For creating the submission CSV\n",
    "from skimage.io import imread  # For reading images\n",
    "from skimage.transform import resize  # For resizing images to a fixed size\n",
    "from skimage.color import rgb2gray  # To convert RGB images to grayscale\n",
    "from skimage.feature import hog  # For extracting HOG features\n",
    "import re  # For extracting numerical part of filenames (to sort)"
   ]
  },
  {
   "cell_type": "markdown",
   "id": "40c68d81-27e4-4359-b599-b649a3823ef7",
   "metadata": {},
   "source": [
    "## 2. Set path and Configuration"
   ]
  },
  {
   "cell_type": "code",
   "execution_count": 2,
   "id": "e0b20f8c-6c98-408a-9552-d5ea2584821d",
   "metadata": {},
   "outputs": [],
   "source": [
    "test_img_dir = \"test1/test1\"  # Folder containing test images\n",
    "model_path = \"svm_model_hog_pca.pkl\"  # Path to the trained model (SVM + Scaler + PCA)\n",
    "output_csv = \"submission.csv\"  # Output CSV file where predictions will be saved\n",
    "img_size = (128, 128)  # Resize all images to this size before feature extraction"
   ]
  },
  {
   "cell_type": "markdown",
   "id": "ff8c9257-284c-4ca4-9203-948ff5462a55",
   "metadata": {},
   "source": [
    "## 3. Load the Trained Model SVM model, Scaler and PCA"
   ]
  },
  {
   "cell_type": "code",
   "execution_count": 3,
   "id": "6a23dcd2-a602-4c26-b6f2-5575b1eb8791",
   "metadata": {},
   "outputs": [],
   "source": [
    "with open(model_path, 'rb') as file:\n",
    "    model, scaler, pca = pickle.load(file)"
   ]
  },
  {
   "cell_type": "markdown",
   "id": "cec97499-3ff1-4698-b326-53017f113705",
   "metadata": {},
   "source": [
    "## 4. Helper function to sort filenames numerically"
   ]
  },
  {
   "cell_type": "code",
   "execution_count": 4,
   "id": "4870b1c8-0464-46c1-9a8f-68a511f8881e",
   "metadata": {},
   "outputs": [],
   "source": [
    "def sort_key(filename):\n",
    "    match = re.search(r'(\\d+)', filename)\n",
    "    return int(match.group(1)) if match else float('inf')"
   ]
  },
  {
   "cell_type": "markdown",
   "id": "8be71b65-4c45-4656-ae09-c0d72929ebc9",
   "metadata": {},
   "source": [
    "## 5. Function to extract HOG features from all test images"
   ]
  },
  {
   "cell_type": "code",
   "execution_count": 5,
   "id": "57fe5090-9419-43a7-a9e7-c328fa47ec31",
   "metadata": {},
   "outputs": [],
   "source": [
    "def extract_hog_features_from_folder(folder, img_size=(128, 128)):\n",
    "    features = []\n",
    "    image_ids = []\n",
    "\n",
    "    # Sort filenames numerically so output CSV is in order\n",
    "    filenames = sorted(os.listdir(folder), key=sort_key)\n",
    "\n",
    "    for filename in filenames:\n",
    "        if filename.lower().endswith(('.jpg', '.png')):  # Ensure only image files are processed\n",
    "            file_path = os.path.join(folder, filename)\n",
    "            img = imread(file_path)  # Load image\n",
    "\n",
    "            # If image has alpha channel (4 channels), remove the alpha channel\n",
    "            if img.shape[-1] == 4:\n",
    "                img = img[:, :, :3]\n",
    "\n",
    "            # Resize and convert to grayscale for HOG\n",
    "            img_resized = resize(img, img_size, anti_aliasing=True, preserve_range=True)\n",
    "            img_gray = rgb2gray(img_resized)\n",
    "\n",
    "            # Extract HOG features\n",
    "            hog_feature = hog(\n",
    "                img_gray,\n",
    "                orientations=9,\n",
    "                pixels_per_cell=(8, 8),\n",
    "                cells_per_block=(2, 2),\n",
    "                visualize=False,\n",
    "                channel_axis=None\n",
    "            )\n",
    "            features.append(hog_feature)\n",
    "            image_ids.append(filename)  # Keep track of filenames for CSV output\n",
    "\n",
    "    return np.array(features), image_ids"
   ]
  },
  {
   "cell_type": "markdown",
   "id": "1988037e-6e86-4ac5-861e-427795fb69e0",
   "metadata": {},
   "source": [
    "## 6. Extract HOG features from test images "
   ]
  },
  {
   "cell_type": "code",
   "execution_count": 6,
   "id": "a7c76642-a17f-4248-a834-e681c448ac8f",
   "metadata": {},
   "outputs": [],
   "source": [
    "# Extract features\n",
    "X_test_raw, image_ids = extract_hog_features_from_folder(test_img_dir, img_size=img_size)"
   ]
  },
  {
   "cell_type": "markdown",
   "id": "c6860cad-b771-42eb-a00b-7dc9f47deddc",
   "metadata": {},
   "source": [
    "## 7. Apply PCA and Scaling (same as done during training)"
   ]
  },
  {
   "cell_type": "code",
   "execution_count": 7,
   "id": "80ed224a-9d78-40c8-a949-7c6db0c87917",
   "metadata": {},
   "outputs": [],
   "source": [
    "X_test_pca = pca.transform(X_test_raw)\n",
    "X_test_scaled = scaler.transform(X_test_pca)   "
   ]
  },
  {
   "cell_type": "markdown",
   "id": "a0f2f852-1f1e-411c-8bd1-1f41d7466eb8",
   "metadata": {},
   "source": [
    "## 8. Perform prediction using trained SVM model"
   ]
  },
  {
   "cell_type": "code",
   "execution_count": 8,
   "id": "d3c85b69-d492-46c7-ae7a-c99dd327039c",
   "metadata": {},
   "outputs": [],
   "source": [
    "y_pred = model.predict(X_test_scaled)  # Predict class labels (0 for cat, 1 for dog)"
   ]
  },
  {
   "cell_type": "markdown",
   "id": "e84cc41f-ca87-4d80-a35f-e374b32b9f3d",
   "metadata": {},
   "source": [
    "## 9. Map numeric predictions to string labels"
   ]
  },
  {
   "cell_type": "code",
   "execution_count": 9,
   "id": "74263bc1-f36a-4f42-b5f2-045b6f1d3322",
   "metadata": {},
   "outputs": [],
   "source": [
    "label_map = {0: \"cat\", 1: \"dog\"}\n",
    "predicted_labels = [label_map[label] for label in y_pred]"
   ]
  },
  {
   "cell_type": "markdown",
   "id": "09a1b640-ef6f-4e1e-8b67-3f2cde73798c",
   "metadata": {},
   "source": [
    "## 10. Create submission DataFrame and save to CSV"
   ]
  },
  {
   "cell_type": "code",
   "execution_count": 10,
   "id": "32b644b0-5098-433b-8f2a-66b75e1e6926",
   "metadata": {},
   "outputs": [
    {
     "name": "stdout",
     "output_type": "stream",
     "text": [
      "Predictions saved to: submission.csv\n"
     ]
    }
   ],
   "source": [
    "submission_df = pd.DataFrame({\n",
    "    \"filename\": image_ids,  # Sorted filenames\n",
    "    \"label\": predicted_labels  # Corresponding predicted labels\n",
    "})\n",
    "submission_df.to_csv(output_csv, index=False)\n",
    "\n",
    "print(f\"Predictions saved to: {output_csv}\")"
   ]
  },
  {
   "cell_type": "code",
   "execution_count": null,
   "id": "b24d199a-6910-4602-a0b6-479607086d11",
   "metadata": {},
   "outputs": [],
   "source": []
  }
 ],
 "metadata": {
  "kernelspec": {
   "display_name": "Python 3 (ipykernel)",
   "language": "python",
   "name": "python3"
  },
  "language_info": {
   "codemirror_mode": {
    "name": "ipython",
    "version": 3
   },
   "file_extension": ".py",
   "mimetype": "text/x-python",
   "name": "python",
   "nbconvert_exporter": "python",
   "pygments_lexer": "ipython3",
   "version": "3.12.0"
  }
 },
 "nbformat": 4,
 "nbformat_minor": 5
}
